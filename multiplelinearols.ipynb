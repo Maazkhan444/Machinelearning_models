{
 "cells": [
  {
   "cell_type": "code",
   "execution_count": 1,
   "id": "50e31a90",
   "metadata": {
    "_cell_guid": "b1076dfc-b9ad-4769-8c92-a6c4dae69d19",
    "_uuid": "8f2839f25d086af736a60e9eeb907d3b93b6e0e5",
    "execution": {
     "iopub.execute_input": "2024-04-11T12:27:13.138557Z",
     "iopub.status.busy": "2024-04-11T12:27:13.137807Z",
     "iopub.status.idle": "2024-04-11T12:27:15.673943Z",
     "shell.execute_reply": "2024-04-11T12:27:15.672877Z"
    },
    "papermill": {
     "duration": 2.545202,
     "end_time": "2024-04-11T12:27:15.676651",
     "exception": false,
     "start_time": "2024-04-11T12:27:13.131449",
     "status": "completed"
    },
    "tags": []
   },
   "outputs": [],
   "source": [
    "import numpy as np\n",
    "import pandas as pd \n",
    "from sklearn.datasets import load_diabetes"
   ]
  },
  {
   "cell_type": "code",
   "execution_count": 2,
   "id": "3d2293b4",
   "metadata": {
    "execution": {
     "iopub.execute_input": "2024-04-11T12:27:15.686836Z",
     "iopub.status.busy": "2024-04-11T12:27:15.686281Z",
     "iopub.status.idle": "2024-04-11T12:27:15.705415Z",
     "shell.execute_reply": "2024-04-11T12:27:15.704269Z"
    },
    "papermill": {
     "duration": 0.027082,
     "end_time": "2024-04-11T12:27:15.708066",
     "exception": false,
     "start_time": "2024-04-11T12:27:15.680984",
     "status": "completed"
    },
    "tags": []
   },
   "outputs": [],
   "source": [
    "X,y = load_diabetes(return_X_y = True)"
   ]
  },
  {
   "cell_type": "code",
   "execution_count": 3,
   "id": "e2a6ae8a",
   "metadata": {
    "execution": {
     "iopub.execute_input": "2024-04-11T12:27:15.717752Z",
     "iopub.status.busy": "2024-04-11T12:27:15.717356Z",
     "iopub.status.idle": "2024-04-11T12:27:15.724394Z",
     "shell.execute_reply": "2024-04-11T12:27:15.723597Z"
    },
    "papermill": {
     "duration": 0.014624,
     "end_time": "2024-04-11T12:27:15.726789",
     "exception": false,
     "start_time": "2024-04-11T12:27:15.712165",
     "status": "completed"
    },
    "tags": []
   },
   "outputs": [
    {
     "data": {
      "text/plain": [
       "(442, 10)"
      ]
     },
     "execution_count": 3,
     "metadata": {},
     "output_type": "execute_result"
    }
   ],
   "source": [
    "X\n",
    "X.shape"
   ]
  },
  {
   "cell_type": "code",
   "execution_count": 4,
   "id": "8df199c6",
   "metadata": {
    "execution": {
     "iopub.execute_input": "2024-04-11T12:27:15.737519Z",
     "iopub.status.busy": "2024-04-11T12:27:15.736368Z",
     "iopub.status.idle": "2024-04-11T12:27:15.742989Z",
     "shell.execute_reply": "2024-04-11T12:27:15.741881Z"
    },
    "papermill": {
     "duration": 0.014253,
     "end_time": "2024-04-11T12:27:15.745199",
     "exception": false,
     "start_time": "2024-04-11T12:27:15.730946",
     "status": "completed"
    },
    "tags": []
   },
   "outputs": [
    {
     "data": {
      "text/plain": [
       "(442,)"
      ]
     },
     "execution_count": 4,
     "metadata": {},
     "output_type": "execute_result"
    }
   ],
   "source": [
    "y\n",
    "y.shape"
   ]
  },
  {
   "cell_type": "code",
   "execution_count": 5,
   "id": "7db1308f",
   "metadata": {
    "execution": {
     "iopub.execute_input": "2024-04-11T12:27:15.756156Z",
     "iopub.status.busy": "2024-04-11T12:27:15.755473Z",
     "iopub.status.idle": "2024-04-11T12:27:15.873472Z",
     "shell.execute_reply": "2024-04-11T12:27:15.872162Z"
    },
    "papermill": {
     "duration": 0.12667,
     "end_time": "2024-04-11T12:27:15.876388",
     "exception": false,
     "start_time": "2024-04-11T12:27:15.749718",
     "status": "completed"
    },
    "tags": []
   },
   "outputs": [],
   "source": [
    "from sklearn.model_selection import train_test_split\n",
    "X_train, X_test, y_train, y_test = train_test_split(X,y , random_state=104,test_size=0.25, shuffle=True)"
   ]
  },
  {
   "cell_type": "code",
   "execution_count": 6,
   "id": "256c5a6c",
   "metadata": {
    "execution": {
     "iopub.execute_input": "2024-04-11T12:27:15.886923Z",
     "iopub.status.busy": "2024-04-11T12:27:15.886513Z",
     "iopub.status.idle": "2024-04-11T12:27:15.894670Z",
     "shell.execute_reply": "2024-04-11T12:27:15.893477Z"
    },
    "papermill": {
     "duration": 0.016293,
     "end_time": "2024-04-11T12:27:15.897166",
     "exception": false,
     "start_time": "2024-04-11T12:27:15.880873",
     "status": "completed"
    },
    "tags": []
   },
   "outputs": [],
   "source": [
    "class MaazLinearRegression:\n",
    "    def __init__(self):\n",
    "        self.thetas = None\n",
    "        self.theta_zero = None\n",
    "    \n",
    "    def fit(self, X_train, y_train):\n",
    "        X_train = np.insert(X_train, 0, 1, axis=1)\n",
    "        thetas = np.linalg.inv(X_train.T.dot(X_train)).dot(X_train.T).dot(y_train)\n",
    "        self.theta_zero = thetas[0]\n",
    "        self.thetas = thetas[1:]\n",
    "        \n",
    "    def predict(self, X_test):\n",
    "        y_pred = np.dot(X_test, self.thetas) + self.theta_zero\n",
    "        return y_pred\n"
   ]
  },
  {
   "cell_type": "code",
   "execution_count": 7,
   "id": "fb2c58a5",
   "metadata": {
    "execution": {
     "iopub.execute_input": "2024-04-11T12:27:15.907957Z",
     "iopub.status.busy": "2024-04-11T12:27:15.907093Z",
     "iopub.status.idle": "2024-04-11T12:27:15.919869Z",
     "shell.execute_reply": "2024-04-11T12:27:15.918234Z"
    },
    "papermill": {
     "duration": 0.022958,
     "end_time": "2024-04-11T12:27:15.924491",
     "exception": false,
     "start_time": "2024-04-11T12:27:15.901533",
     "status": "completed"
    },
    "tags": []
   },
   "outputs": [],
   "source": [
    "lr = MaazLinearRegression()\n",
    "lr.fit(X_train, y_train)\n"
   ]
  },
  {
   "cell_type": "code",
   "execution_count": 8,
   "id": "9cb5c26a",
   "metadata": {
    "execution": {
     "iopub.execute_input": "2024-04-11T12:27:15.945534Z",
     "iopub.status.busy": "2024-04-11T12:27:15.944853Z",
     "iopub.status.idle": "2024-04-11T12:27:15.953547Z",
     "shell.execute_reply": "2024-04-11T12:27:15.952063Z"
    },
    "papermill": {
     "duration": 0.027111,
     "end_time": "2024-04-11T12:27:15.960700",
     "exception": false,
     "start_time": "2024-04-11T12:27:15.933589",
     "status": "completed"
    },
    "tags": []
   },
   "outputs": [
    {
     "name": "stdout",
     "output_type": "stream",
     "text": [
      "256.7547575913859\n"
     ]
    }
   ],
   "source": [
    "y_pred = lr.predict(X_test[0])\n",
    "print(y_pred)\n"
   ]
  },
  {
   "cell_type": "code",
   "execution_count": 9,
   "id": "dd5dce9a",
   "metadata": {
    "execution": {
     "iopub.execute_input": "2024-04-11T12:27:15.981487Z",
     "iopub.status.busy": "2024-04-11T12:27:15.980853Z",
     "iopub.status.idle": "2024-04-11T12:27:15.995186Z",
     "shell.execute_reply": "2024-04-11T12:27:15.993497Z"
    },
    "papermill": {
     "duration": 0.029451,
     "end_time": "2024-04-11T12:27:15.999277",
     "exception": false,
     "start_time": "2024-04-11T12:27:15.969826",
     "status": "completed"
    },
    "tags": []
   },
   "outputs": [
    {
     "name": "stdout",
     "output_type": "stream",
     "text": [
      "Mean Squared Error (MSE): 2541.579882210426\n",
      "Mean Absolute Error (MAE): 41.81358673274218\n",
      "R-squared Score: 0.5824981258133983\n"
     ]
    }
   ],
   "source": [
    "from sklearn.metrics import mean_squared_error, mean_absolute_error, r2_score\n",
    "\n",
    "y_pred = lr.predict(X_test)\n",
    "\n",
    "mse = mean_squared_error(y_test, y_pred)\n",
    "mae = mean_absolute_error(y_test, y_pred)\n",
    "r2 = r2_score(y_test, y_pred)\n",
    "\n",
    "print(\"Mean Squared Error (MSE):\", mse)\n",
    "print(\"Mean Absolute Error (MAE):\", mae)\n",
    "print(\"R-squared Score:\", r2)\n"
   ]
  }
 ],
 "metadata": {
  "kaggle": {
   "accelerator": "none",
   "dataSources": [
    {
     "datasetId": 949085,
     "sourceId": 1609152,
     "sourceType": "datasetVersion"
    }
   ],
   "dockerImageVersionId": 30684,
   "isGpuEnabled": false,
   "isInternetEnabled": false,
   "language": "python",
   "sourceType": "notebook"
  },
  "kernelspec": {
   "display_name": "Python 3",
   "language": "python",
   "name": "python3"
  },
  "language_info": {
   "codemirror_mode": {
    "name": "ipython",
    "version": 3
   },
   "file_extension": ".py",
   "mimetype": "text/x-python",
   "name": "python",
   "nbconvert_exporter": "python",
   "pygments_lexer": "ipython3",
   "version": "3.10.13"
  },
  "papermill": {
   "default_parameters": {},
   "duration": 6.66412,
   "end_time": "2024-04-11T12:27:16.639315",
   "environment_variables": {},
   "exception": null,
   "input_path": "__notebook__.ipynb",
   "output_path": "__notebook__.ipynb",
   "parameters": {},
   "start_time": "2024-04-11T12:27:09.975195",
   "version": "2.5.0"
  }
 },
 "nbformat": 4,
 "nbformat_minor": 5
}
